{
 "cells": [
  {
   "cell_type": "markdown",
   "metadata": {},
   "source": [
    "## 네이버 웹툰 목록 크롤링"
   ]
  },
  {
   "cell_type": "code",
   "execution_count": 1,
   "metadata": {
    "ExecuteTime": {
     "end_time": "2020-09-19T12:34:51.383767Z",
     "start_time": "2020-09-19T12:34:50.882109Z"
    }
   },
   "outputs": [],
   "source": [
    "import requests\n",
    "from bs4 import BeautifulSoup"
   ]
  },
  {
   "cell_type": "code",
   "execution_count": 2,
   "metadata": {
    "ExecuteTime": {
     "end_time": "2020-09-19T12:34:51.942273Z",
     "start_time": "2020-09-19T12:34:51.387755Z"
    }
   },
   "outputs": [
    {
     "name": "stdout",
     "output_type": "stream",
     "text": [
      "네이버 만화 > 요일별  웹툰 > 전체웹툰\n"
     ]
    }
   ],
   "source": [
    "url ='https://comic.naver.com/webtoon/weekday.nhn'\n",
    "res = requests.get(url)\n",
    "soup = BeautifulSoup(res.text, 'lxml')\n",
    "print(soup.title.get_text())"
   ]
  },
  {
   "cell_type": "code",
   "execution_count": 3,
   "metadata": {
    "ExecuteTime": {
     "end_time": "2020-09-19T12:34:51.989147Z",
     "start_time": "2020-09-19T12:34:51.948876Z"
    }
   },
   "outputs": [
    {
     "data": {
      "text/plain": [
       "{'href': '#menu',\n",
       " 'onclick': \"document.getElementById('menu').tabIndex=-1;document.getElementById('menu').focus();return false;\"}"
      ]
     },
     "execution_count": 3,
     "metadata": {},
     "output_type": "execute_result"
    }
   ],
   "source": [
    "# a 태그의 속성\n",
    "soup.a.attrs"
   ]
  },
  {
   "cell_type": "markdown",
   "metadata": {},
   "source": [
    "### 다음 목록을 찾아볼 때\n",
    "\n",
    "1. 형제로 넘어갈 때 = next_sibling.next_sibling  /  find_next_sibling()\n",
    "2. 부모로 넘어갈 때 =. parent"
   ]
  },
  {
   "cell_type": "code",
   "execution_count": 4,
   "metadata": {
    "ExecuteTime": {
     "end_time": "2020-09-19T12:34:52.067936Z",
     "start_time": "2020-09-19T12:34:51.998277Z"
    }
   },
   "outputs": [
    {
     "name": "stdout",
     "output_type": "stream",
     "text": [
      "유미의 세포들-503화 유미의 세포들 1\n",
      "\n",
      "프리드로우-제353화 한태성의 적 (5)\n",
      "\n",
      " 0\n",
      "\t\t\t\t\t\t\n",
      "\t\t\t\t\t\n",
      "\t\t\t\t\n",
      "\n"
     ]
    }
   ],
   "source": [
    "# 다음태그 찾아보기\n",
    "\n",
    "rank1= soup.find('li', class_='rank01')\n",
    "print(rank1.a.get_text())\n",
    "print(rank1.next_sibling.next_sibling.get_text())"
   ]
  },
  {
   "cell_type": "code",
   "execution_count": 5,
   "metadata": {
    "ExecuteTime": {
     "end_time": "2020-09-19T12:34:52.186640Z",
     "start_time": "2020-09-19T12:34:52.072923Z"
    }
   },
   "outputs": [
    {
     "name": "stdout",
     "output_type": "stream",
     "text": [
      "인생존망\n",
      "뷰티풀 군바리\n",
      "윈드브레이커\n",
      "소녀의 세계\n",
      "파이게임\n",
      "백수세끼\n",
      "장씨세가 호위무사\n",
      "앵무살수\n",
      "유일무이 로맨스\n",
      "칼가는 소녀\n",
      "신의 탑\n",
      "야자괴담\n",
      "오늘의 순정망화\n",
      "평범한 8반\n",
      "리턴 투 플레이어\n",
      "싸이코 리벤지\n",
      "열렙전차\n",
      "링크보이\n",
      "히어로메이커\n",
      "침범\n",
      "아는 여자애\n",
      "사장님을 잠금해제\n",
      "데드라이프\n",
      "교환일기\n",
      "삶이 우리를 속일지라도\n",
      "닥터 하운드\n",
      "지옥\n",
      "결혼생활 그림일기\n",
      "이것도 친구라고\n",
      "일진이 사나워\n",
      "서브 콤플렉스\n",
      "원하는 건 너 하나\n",
      "꿈의 기업\n",
      "위대한 방옥숙\n",
      "노력의 결과\n",
      "와이키키 뱀파이어\n",
      "피플\n",
      "도플갱어의 게임\n",
      "정보전사 202\n",
      "드로잉 레시피\n",
      "두근두근 네가 좋아서\n",
      "지구멸망버튼\n",
      "여기 악마가 있어\n",
      "하슬라\n",
      "뱀파이어의 꽃\n",
      "물레\n",
      "백호랑\n",
      "중독연구소\n",
      "모락모락 왕세자님\n",
      "블루투스\n",
      "결백한 사람은 없다\n",
      "인간의 온도\n",
      "여신강림\n",
      "관계의 종말\n",
      "후기\n",
      "한림체육관\n",
      "바른연애 길잡이\n",
      "랜덤채팅의 그녀!\n",
      "하루만 네가 되고 싶어\n",
      "사신소년\n",
      "신도림\n",
      "헬58\n",
      "중증외상센터 : 골든 아워\n",
      "삼국지톡\n",
      "2020 호랑 공포 단편선\n",
      "오늘의 순정망화\n",
      "원주민 공포만화\n",
      "집이 없어\n",
      "견우와 선녀\n",
      "체크포인트\n",
      "윌유메리미\n",
      "완벽한 가족\n",
      "용왕님의 셰프가 되었습니다\n",
      "ㅋㄷㅋㄷ만화\n",
      "사이드킥 2~3\n",
      "악마와 계약연애\n",
      "달콤살벌한 부부\n",
      "신의 언어\n",
      "땅 보고 걷는 아이\n",
      "제로게임\n",
      "정년이\n",
      "그놈은 흑염룡\n",
      "은주의 방 2~3부\n",
      "오파츠\n",
      "한강예찬\n",
      "플레이, 플리\n",
      "올가미\n",
      "숲속의 담\n",
      "3cm 헌터\n",
      "자판귀\n",
      "언메이크\n",
      "별종\n",
      "패밀리 사이즈\n",
      "도를 아십니까\n",
      "그날 죽은 나는\n",
      "너에게만 보이는\n",
      "저세상 클라스!\n",
      "조선홍보대행사 조대박\n",
      "필살VS로맨스\n",
      "안식의 밤\n",
      "아이고 아이고\n",
      "빛빛빛\n",
      "장단에 맞춰줘!\n",
      "하우스키퍼\n",
      "에이머\n",
      "헬퍼 2 : 킬베로스\n",
      "고수\n",
      "복학왕\n",
      "전지적 독자 시점\n",
      "2020 최애캐의 MBTI\n",
      "모죠의 일지\n",
      "로어 올림푸스\n",
      "튜토리얼 탑의 고인물\n",
      "격기3반\n",
      "여주실격!\n",
      "남주의 첫날밤을 가져버렸다\n",
      "고삼무쌍\n",
      "빌드업\n",
      "일렉시드\n",
      "캐슬\n",
      "판타지 여동생!\n",
      "나쁜사람\n",
      "닥터앤닥터 육아일기\n",
      "몰랐지만 괜찮아\n",
      "귀곡의 문\n",
      "각자의 디데이\n",
      "이츠마인\n",
      "갓물주\n",
      "연놈\n",
      "레사 시즌2~3\n",
      "새벽 두 시의 신데렐라\n",
      "언덕 위의 제임스\n",
      "정순애 식당\n",
      "더 트웰브\n",
      "아도나이\n",
      "미래의 골동품 가게\n",
      "범이올시다!\n",
      "방탈출\n",
      "럭키언럭키\n",
      "얼굴천재\n",
      "마른 가지에 바람처럼\n",
      "원수를 사랑하라\n",
      "수상한 비밀상담부\n",
      "칼부림\n",
      "당신의 향수\n",
      "나의 우주\n",
      "스캔들\n",
      "오버더문\n",
      "커넥트\n",
      "인터셉트\n",
      "천도\n",
      "기억흔적\n",
      "비스타\n",
      "노선도\n",
      "FM보이\n",
      "스몰\n",
      "신선비\n",
      "저승사자 출입금지\n",
      "그 판타지 세계에서 사는 법\n",
      "독립일기\n",
      "기기괴괴\n",
      "연애혁명\n",
      "더 복서\n",
      "이두나!\n",
      "나노마신\n",
      "간 떨어지는 동거\n",
      "화이트 블러드\n",
      "가담항설\n",
      "하드캐리\n",
      "경기딸\n",
      "겟백\n",
      "전자오락수호대\n",
      "꽃만 키우는데 너무강함\n",
      "오늘의 순정망화\n",
      "가타부타타\n",
      "시월드 판타지\n",
      "무사만리행\n",
      "트롤트랩\n",
      "병의 기록\n",
      "선의의 경쟁\n",
      "당신의 과녁\n",
      "쿠베라\n",
      "최강전설 강해효\n",
      "만물의 영장\n",
      "우리는 요정!\n",
      "무모협지\n",
      "셧업앤댄스\n",
      "신비\n",
      "열등의 조건\n",
      "안개무덤\n",
      "집사레인저\n",
      "어쩔꼰대\n",
      "로그아웃\n",
      "소녀180\n",
      "날 가져요\n",
      "오일머니\n",
      "셈하는 사이\n",
      "겟라이프\n",
      "킬더킹\n",
      "별을 삼킨 너에게\n",
      "미드나잇 체이서\n",
      "손아귀\n",
      "스테어스\n",
      "온새미로\n",
      "롤랑롤랑\n",
      "불릿 6미리\n",
      "깁스맨\n",
      "밤하늘에 구름운\n",
      "갑자기 커피\n",
      "외모지상주의\n",
      "갓 오브 하이스쿨\n",
      "관계의 종말\n",
      "2020 최애캐의 MBTI\n",
      "재혼 황후\n",
      "데드퀸\n",
      "개를 낳았다\n",
      "1초\n",
      "뫼신 사냥꾼\n",
      "살人스타그램\n",
      "삼국지톡\n",
      "화장 지워주는 남자\n",
      "더 게이머\n",
      "낙향문사전\n",
      "걸어서 30분\n",
      "난약\n",
      "구남친이 내게 반했다\n",
      "냐한남자\n",
      "성경의 역사\n",
      "현혹\n",
      "사냥개들\n",
      "플레이어\n",
      "백년게임\n",
      "복학생 정순이\n",
      "피와 나비\n",
      "옆집친구\n",
      "상남자\n",
      "소심한 팔레트\n",
      "고래별\n",
      "가슴털 로망스\n",
      "금혼령-조선혼인금지령\n",
      "신상 미스터리 극장\n",
      "얌전한 사이\n",
      "닥터 프로스트 시즌 3~4\n",
      "도롱이\n",
      "후덜덜덜 남극전자\n",
      "매지컬 메디컬\n",
      "너의 미소가 함정\n",
      "구독금지\n",
      "사우러스\n",
      "버그\n",
      "트럼프\n",
      "개미\n",
      "9등급 뒤집기\n",
      "몽홀\n",
      "헬로도사\n",
      "꼬맹이를 부탁해!\n",
      "스윗솔티\n",
      "감히\n",
      "나쁜 쪽으로\n",
      "합법해적 파르페\n",
      "골든 체인지\n",
      "구주의 시간\n",
      "나의 첫번째 새벽\n",
      "유미의 세포들\n",
      "프리드로우\n",
      "호랑이형님\n",
      "모죠의 일지\n",
      "취사병 전설이 되다\n",
      "회춘\n",
      "비질란테\n",
      "스터디그룹\n",
      "초인의 시대\n",
      "토끼대왕\n",
      "남자주인공의 여자사람친구입니다\n",
      "민간인 통제구역\n",
      "윌유메리미\n",
      "나이트런\n",
      "갓핑크\n",
      "나를 바꿔줘\n",
      "두번째 생일\n",
      "아홉수 우리들\n",
      "탑코너\n",
      "광해의 연인\n",
      "광장\n",
      "아침을 지나 밤으로\n",
      "먹이\n",
      "동트는 로맨스\n",
      "공유몽\n",
      "열불 로맨스\n",
      "압락사스\n",
      "홍시는 날 좋아해!\n",
      "틴맘\n",
      "피라미드 게임\n",
      "청춘 블라썸\n",
      "웰캄투실버라이프\n",
      "저무는 해, 시린 눈\n",
      "후아유!\n",
      "피노키오 소녀\n",
      "동네몬스터\n",
      "커피도둑\n",
      "아테나 컴플렉스\n",
      "왕세자 입학도\n",
      "언데드\n",
      "안녕, 이바다씨\n",
      "거미\n",
      "꼬리 있는 연애\n",
      "도사 가온\n",
      "누군가의 로섬\n",
      "함부로 대해줘\n",
      "먹지마세요\n",
      "독립일기\n",
      "싸움독학\n",
      "2020 최애캐의 MBTI\n",
      "운수 오진 날\n",
      "약한영웅\n",
      "열렙전사\n",
      "로어 올림푸스\n",
      "맘마미안\n",
      "이번 생도 잘 부탁해\n",
      "소녀재판\n",
      "경비 배두만\n",
      "도망자\n",
      "천하제일인\n",
      "극야\n",
      "닥터앤닥터 육아일기\n",
      "오로지 너를 이기고 싶어\n",
      "행성인간\n",
      "합격시켜주세용\n",
      "마법스크롤 상인 지오\n",
      "구름이 피워낸 꽃\n",
      "데이즈\n",
      "인어를 위한 수영교실\n",
      "내일\n",
      "오른눈이 보는 세계\n",
      "에리타\n",
      "다이스(DICE)\n",
      "학교정벌\n",
      "강남도깨비\n",
      "가비지타임\n",
      "별이삼샵\n",
      "아르세니아의 마법사\n",
      "라일락 200%\n",
      "패밀리 사이즈\n",
      "평행도시\n",
      "잉여특공대\n",
      "괴물신부\n",
      "웅이는 배고파\n",
      "인싸라이프\n",
      "신이 담긴 아이\n",
      "무주의 맹시\n",
      "소녀 해미\n",
      "그녀의 버킷리스트\n",
      "오늘도 사랑하세요\n",
      "여름은 뜨겁다\n",
      "죽여주는 탐정님\n",
      "Here U Are\n",
      "위험한 신입사원\n",
      "불발소년\n",
      "선녀야 야옹해봐!\n",
      "8월의 눈보라\n",
      "마도\n"
     ]
    }
   ],
   "source": [
    "# 네이버 웹툰 목록 전체 가져오기\n",
    "\n",
    "webtoon = soup.find_all('a', class_='title')\n",
    "for i in webtoon:\n",
    "    print(i.get_text())"
   ]
  },
  {
   "cell_type": "code",
   "execution_count": 6,
   "metadata": {
    "ExecuteTime": {
     "end_time": "2020-09-19T12:34:52.398346Z",
     "start_time": "2020-09-19T12:34:52.196593Z"
    }
   },
   "outputs": [],
   "source": [
    "url2 = 'https://comic.naver.com/webtoon/list.nhn?titleId=293520'\n",
    "res2 = requests.get(url2)\n",
    "soup2 = BeautifulSoup(res2.content, 'html.parser') "
   ]
  },
  {
   "cell_type": "code",
   "execution_count": 7,
   "metadata": {
    "ExecuteTime": {
     "end_time": "2020-09-19T12:34:52.426991Z",
     "start_time": "2020-09-19T12:34:52.402043Z"
    }
   },
   "outputs": [
    {
     "data": {
      "text/plain": [
       "'https://www.comic.naver.com/webtoon/detail.nhn?titleId=293520&no=7&weekday=sun'"
      ]
     },
     "execution_count": 7,
     "metadata": {},
     "output_type": "execute_result"
    }
   ],
   "source": [
    "fun = soup2.find_all('td', class_='title')\n",
    "title = fun[0].a.get_text()\n",
    "link = fun[0].a['href']\n",
    "link2 = 'https://www.comic.naver.com' + str(link)\n",
    "link2"
   ]
  },
  {
   "cell_type": "markdown",
   "metadata": {},
   "source": [
    "### 데이터 프레임으로 정리하기"
   ]
  },
  {
   "cell_type": "code",
   "execution_count": 11,
   "metadata": {
    "ExecuteTime": {
     "end_time": "2020-09-19T12:36:47.184169Z",
     "start_time": "2020-09-19T12:36:47.106481Z"
    }
   },
   "outputs": [
    {
     "name": "stdout",
     "output_type": "stream",
     "text": [
      "['https://www.comic.naver.com/webtoon/detail.nhn?titleId=293520&no=7&weekday=sun', 'https://www.comic.naver.com/webtoon/detail.nhn?titleId=293520&no=6&weekday=sun', 'https://www.comic.naver.com/webtoon/detail.nhn?titleId=293520&no=5&weekday=sun', 'https://www.comic.naver.com/webtoon/detail.nhn?titleId=293520&no=4&weekday=sun', 'https://www.comic.naver.com/webtoon/detail.nhn?titleId=293520&no=3&weekday=sun', 'https://www.comic.naver.com/webtoon/detail.nhn?titleId=293520&no=2&weekday=sun', 'https://www.comic.naver.com/webtoon/detail.nhn?titleId=293520&no=1&weekday=sun']\n",
      "['9.92', '9.95', '9.94', '9.95', '9.95', '9.93', '9.89']\n"
     ]
    }
   ],
   "source": [
    "import pandas as pd\n",
    "titles = []\n",
    "links= []\n",
    "stars = []\n",
    "for i in range(len(fun)):\n",
    "    title = fun[i].a.get_text()\n",
    "    link = fun[i].a['href']\n",
    "    link2 = 'https://www.comic.naver.com' + str(link)\n",
    "    div = soup2.find_all('div',class_='rating_type')\n",
    "    star = div[i].find('strong').get_text()\n",
    "    #print(title, link2, star)\n",
    "    titles.append(title)\n",
    "    links.append(link2)\n",
    "    stars.append(star)\n",
    "    \n",
    "print(links)\n",
    "print(stars)"
   ]
  },
  {
   "cell_type": "code",
   "execution_count": 12,
   "metadata": {
    "ExecuteTime": {
     "end_time": "2020-09-19T12:39:58.256331Z",
     "start_time": "2020-09-19T12:39:58.202476Z"
    }
   },
   "outputs": [
    {
     "data": {
      "text/html": [
       "<div>\n",
       "<style scoped>\n",
       "    .dataframe tbody tr th:only-of-type {\n",
       "        vertical-align: middle;\n",
       "    }\n",
       "\n",
       "    .dataframe tbody tr th {\n",
       "        vertical-align: top;\n",
       "    }\n",
       "\n",
       "    .dataframe thead th {\n",
       "        text-align: right;\n",
       "    }\n",
       "</style>\n",
       "<table border=\"1\" class=\"dataframe\">\n",
       "  <thead>\n",
       "    <tr style=\"text-align: right;\">\n",
       "      <th></th>\n",
       "      <th>제목</th>\n",
       "      <th>별점</th>\n",
       "      <th>링크</th>\n",
       "    </tr>\n",
       "  </thead>\n",
       "  <tbody>\n",
       "    <tr>\n",
       "      <th>0</th>\n",
       "      <td>6화 시동</td>\n",
       "      <td>9.92</td>\n",
       "      <td>https://www.comic.naver.com/webtoon/detail.nhn...</td>\n",
       "    </tr>\n",
       "    <tr>\n",
       "      <th>1</th>\n",
       "      <td>5화 재미있는 것</td>\n",
       "      <td>9.95</td>\n",
       "      <td>https://www.comic.naver.com/webtoon/detail.nhn...</td>\n",
       "    </tr>\n",
       "    <tr>\n",
       "      <th>2</th>\n",
       "      <td>4화 궁금증</td>\n",
       "      <td>9.94</td>\n",
       "      <td>https://www.comic.naver.com/webtoon/detail.nhn...</td>\n",
       "    </tr>\n",
       "    <tr>\n",
       "      <th>3</th>\n",
       "      <td>3화 제어 불능</td>\n",
       "      <td>9.95</td>\n",
       "      <td>https://www.comic.naver.com/webtoon/detail.nhn...</td>\n",
       "    </tr>\n",
       "    <tr>\n",
       "      <th>4</th>\n",
       "      <td>2화 건망증</td>\n",
       "      <td>9.95</td>\n",
       "      <td>https://www.comic.naver.com/webtoon/detail.nhn...</td>\n",
       "    </tr>\n",
       "    <tr>\n",
       "      <th>5</th>\n",
       "      <td>1화 만남</td>\n",
       "      <td>9.93</td>\n",
       "      <td>https://www.comic.naver.com/webtoon/detail.nhn...</td>\n",
       "    </tr>\n",
       "    <tr>\n",
       "      <th>6</th>\n",
       "      <td>예고편</td>\n",
       "      <td>9.89</td>\n",
       "      <td>https://www.comic.naver.com/webtoon/detail.nhn...</td>\n",
       "    </tr>\n",
       "  </tbody>\n",
       "</table>\n",
       "</div>"
      ],
      "text/plain": [
       "          제목    별점                                                 링크\n",
       "0      6화 시동  9.92  https://www.comic.naver.com/webtoon/detail.nhn...\n",
       "1  5화 재미있는 것  9.95  https://www.comic.naver.com/webtoon/detail.nhn...\n",
       "2     4화 궁금증  9.94  https://www.comic.naver.com/webtoon/detail.nhn...\n",
       "3   3화 제어 불능  9.95  https://www.comic.naver.com/webtoon/detail.nhn...\n",
       "4     2화 건망증  9.95  https://www.comic.naver.com/webtoon/detail.nhn...\n",
       "5      1화 만남  9.93  https://www.comic.naver.com/webtoon/detail.nhn...\n",
       "6        예고편  9.89  https://www.comic.naver.com/webtoon/detail.nhn..."
      ]
     },
     "execution_count": 12,
     "metadata": {},
     "output_type": "execute_result"
    }
   ],
   "source": [
    "dict = {'제목':titles, '별점':stars, '링크': links}\n",
    "df = pd.DataFrame(dict)\n",
    "df"
   ]
  },
  {
   "cell_type": "code",
   "execution_count": null,
   "metadata": {},
   "outputs": [],
   "source": []
  }
 ],
 "metadata": {
  "kernelspec": {
   "display_name": "Python 3",
   "language": "python",
   "name": "python3"
  },
  "language_info": {
   "codemirror_mode": {
    "name": "ipython",
    "version": 3
   },
   "file_extension": ".py",
   "mimetype": "text/x-python",
   "name": "python",
   "nbconvert_exporter": "python",
   "pygments_lexer": "ipython3",
   "version": "3.8.3"
  },
  "toc": {
   "base_numbering": 1,
   "nav_menu": {},
   "number_sections": true,
   "sideBar": true,
   "skip_h1_title": false,
   "title_cell": "Table of Contents",
   "title_sidebar": "Contents",
   "toc_cell": false,
   "toc_position": {},
   "toc_section_display": true,
   "toc_window_display": false
  }
 },
 "nbformat": 4,
 "nbformat_minor": 4
}
