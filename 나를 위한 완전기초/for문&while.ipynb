{
  "nbformat": 4,
  "nbformat_minor": 0,
  "metadata": {
    "colab": {
      "name": "for문&while.ipynb",
      "provenance": [],
      "authorship_tag": "ABX9TyNF+tJcK37RlupStYFoBAkI",
      "include_colab_link": true
    },
    "kernelspec": {
      "name": "python3",
      "display_name": "Python 3"
    }
  },
  "cells": [
    {
      "cell_type": "markdown",
      "metadata": {
        "id": "view-in-github",
        "colab_type": "text"
      },
      "source": [
        "<a href=\"https://colab.research.google.com/github/soobin2121/python_prac/blob/master/for%EB%AC%B8%26while.ipynb\" target=\"_parent\"><img src=\"https://colab.research.google.com/assets/colab-badge.svg\" alt=\"Open In Colab\"/></a>"
      ]
    },
    {
      "cell_type": "markdown",
      "metadata": {
        "id": "4WOh95lO4HNy",
        "colab_type": "text"
      },
      "source": [
        "### for 문으로 인덱스와 요소 함께 출력하기"
      ]
    },
    {
      "cell_type": "markdown",
      "metadata": {
        "id": "fI3zjuKt3s5R",
        "colab_type": "text"
      },
      "source": [
        "#### enumerate에 리스트를 넣으면 for문에서 인덱스와 요소를 동시에 꺼낼 수 있다.\n"
      ]
    },
    {
      "cell_type": "code",
      "metadata": {
        "id": "GPir8IBb3X6G",
        "colab_type": "code",
        "colab": {
          "base_uri": "https://localhost:8080/",
          "height": 111
        },
        "outputId": "25431eec-8018-4364-c8f9-578178f68401"
      },
      "source": [
        "a= [34,55,24,13,44]\n",
        "for index, value in enumerate(a):\n",
        "  print(index, value)"
      ],
      "execution_count": 1,
      "outputs": [
        {
          "output_type": "stream",
          "text": [
            "0 34\n",
            "1 55\n",
            "2 24\n",
            "3 13\n",
            "4 44\n"
          ],
          "name": "stdout"
        }
      ]
    },
    {
      "cell_type": "markdown",
      "metadata": {
        "id": "G_B_qNj24Zat",
        "colab_type": "text"
      },
      "source": [
        "#### 1부터 출력하고 싶을 때."
      ]
    },
    {
      "cell_type": "code",
      "metadata": {
        "id": "NyoHTPj14Q-q",
        "colab_type": "code",
        "colab": {
          "base_uri": "https://localhost:8080/",
          "height": 111
        },
        "outputId": "e6796096-da99-4172-d9c5-235233964731"
      },
      "source": [
        "for index, value in enumerate(a):\n",
        "  print(index+1, value)"
      ],
      "execution_count": 2,
      "outputs": [
        {
          "output_type": "stream",
          "text": [
            "1 34\n",
            "2 55\n",
            "3 24\n",
            "4 13\n",
            "5 44\n"
          ],
          "name": "stdout"
        }
      ]
    },
    {
      "cell_type": "code",
      "metadata": {
        "id": "ALtPF32h5bz-",
        "colab_type": "code",
        "colab": {
          "base_uri": "https://localhost:8080/",
          "height": 111
        },
        "outputId": "0abf6d75-251f-4dfa-dc8a-3566fee34384"
      },
      "source": [
        "for index, value in enumerate(a, start=1):\n",
        "  print(index, value)"
      ],
      "execution_count": 3,
      "outputs": [
        {
          "output_type": "stream",
          "text": [
            "1 34\n",
            "2 55\n",
            "3 24\n",
            "4 13\n",
            "5 44\n"
          ],
          "name": "stdout"
        }
      ]
    },
    {
      "cell_type": "markdown",
      "metadata": {
        "id": "kdrD8qoZ8Isc",
        "colab_type": "text"
      },
      "source": [
        "#### for 반복문 한 번만 사용하기"
      ]
    },
    {
      "cell_type": "code",
      "metadata": {
        "id": "hclq--EV8Ngc",
        "colab_type": "code",
        "colab": {
          "base_uri": "https://localhost:8080/",
          "height": 73
        },
        "outputId": "b91e53f4-f79c-4231-e1c6-43ba485f2078"
      },
      "source": [
        "a= [[10,20],[30,40],[50,60]]\n",
        "for x, y in a:\n",
        "  print(x,y)"
      ],
      "execution_count": 14,
      "outputs": [
        {
          "output_type": "stream",
          "text": [
            "10 20\n",
            "30 40\n",
            "50 60\n"
          ],
          "name": "stdout"
        }
      ]
    },
    {
      "cell_type": "code",
      "metadata": {
        "id": "YPx7d0xS8kgK",
        "colab_type": "code",
        "colab": {
          "base_uri": "https://localhost:8080/",
          "height": 36
        },
        "outputId": "22186bd5-d017-4c19-b74d-cb9a249cb483"
      },
      "source": [
        "for i in a:\n",
        "  for j in i:\n",
        "    print(j, end=' ')\n",
        "print()"
      ],
      "execution_count": 18,
      "outputs": [
        {
          "output_type": "stream",
          "text": [
            "10 20 30 40 50 60 \n"
          ],
          "name": "stdout"
        }
      ]
    },
    {
      "cell_type": "markdown",
      "metadata": {
        "id": "xoC_sZdo863S",
        "colab_type": "text"
      },
      "source": [
        "### for 와 range 사용하기"
      ]
    },
    {
      "cell_type": "code",
      "metadata": {
        "id": "NuieVV1986fq",
        "colab_type": "code",
        "colab": {
          "base_uri": "https://localhost:8080/",
          "height": 129
        },
        "outputId": "0fe4925e-fd1f-4047-9e8c-3d81b8e5809e"
      },
      "source": [
        "for i in range(len(a)):         # 세로 크기 3만큼 반복하고\n",
        "  print(i)                     # 세로 크기\n",
        "  for j in range(len(a[i])):    # 가로크기 2만큼 반복\n",
        "    print(a[i][j], end=' ')\n",
        "  print()  \n",
        "  "
      ],
      "execution_count": 24,
      "outputs": [
        {
          "output_type": "stream",
          "text": [
            "0\n",
            "10 20 \n",
            "1\n",
            "30 40 \n",
            "2\n",
            "50 60 \n"
          ],
          "name": "stdout"
        }
      ]
    },
    {
      "cell_type": "markdown",
      "metadata": {
        "id": "kdSHn_Lm5bSb",
        "colab_type": "text"
      },
      "source": [
        "#### for 에서 인덱스를 지정하여 요소를 가져오기"
      ]
    },
    {
      "cell_type": "code",
      "metadata": {
        "id": "B8opcvji5vEm",
        "colab_type": "code",
        "colab": {
          "base_uri": "https://localhost:8080/",
          "height": 73
        },
        "outputId": "d1ab948a-c2eb-447c-b219-d38cb0b96e66"
      },
      "source": [
        "for i in range(len(a)):\n",
        "    print(a[i])"
      ],
      "execution_count": 15,
      "outputs": [
        {
          "output_type": "stream",
          "text": [
            "[10, 20]\n",
            "[30, 40]\n",
            "[50, 60]\n"
          ],
          "name": "stdout"
        }
      ]
    },
    {
      "cell_type": "markdown",
      "metadata": {
        "id": "s8YCSXWi-ZIQ",
        "colab_type": "text"
      },
      "source": [
        "#### for 반복문으로 1차원 리스트 만들기"
      ]
    },
    {
      "cell_type": "code",
      "metadata": {
        "id": "E2Dazums-hiJ",
        "colab_type": "code",
        "colab": {
          "base_uri": "https://localhost:8080/",
          "height": 36
        },
        "outputId": "b83598df-d48e-40c2-a071-caf49c08d3b6"
      },
      "source": [
        "b=[]\n",
        "for i in range(10):\n",
        "  b.append(0)\n",
        "print(b)  "
      ],
      "execution_count": 25,
      "outputs": [
        {
          "output_type": "stream",
          "text": [
            "[0, 0, 0, 0, 0, 0, 0, 0, 0, 0]\n"
          ],
          "name": "stdout"
        }
      ]
    },
    {
      "cell_type": "markdown",
      "metadata": {
        "id": "ehLhKy73-wpU",
        "colab_type": "text"
      },
      "source": [
        "for 반복문으로 2차원 리스트 만들기"
      ]
    },
    {
      "cell_type": "code",
      "metadata": {
        "id": "RvRuV2r8-zRg",
        "colab_type": "code",
        "colab": {
          "base_uri": "https://localhost:8080/",
          "height": 36
        },
        "outputId": "88fdb6b4-5536-48dd-8eae-78cb2acf2373"
      },
      "source": [
        "c= []\n",
        "for i in range(3):\n",
        "  line=[]                   # 안쪽 리스트로 사용할 빈 리스트 생성\n",
        "  for j in range(2):        \n",
        "    line.append(0)\n",
        "  c.append(line)\n",
        "c  "
      ],
      "execution_count": 26,
      "outputs": [
        {
          "output_type": "execute_result",
          "data": {
            "text/plain": [
              "[[0, 0], [0, 0], [0, 0]]"
            ]
          },
          "metadata": {
            "tags": []
          },
          "execution_count": 26
        }
      ]
    },
    {
      "cell_type": "code",
      "metadata": {
        "id": "AGHtKtBP_aGz",
        "colab_type": "code",
        "colab": {
          "base_uri": "https://localhost:8080/",
          "height": 36
        },
        "outputId": "e6b8ecd5-4879-4684-96cb-339b6bbf714c"
      },
      "source": [
        "d= [[2 for j in range(2)] for i in range(3)]\n",
        "d"
      ],
      "execution_count": 27,
      "outputs": [
        {
          "output_type": "execute_result",
          "data": {
            "text/plain": [
              "[[2, 2], [2, 2], [2, 2]]"
            ]
          },
          "metadata": {
            "tags": []
          },
          "execution_count": 27
        }
      ]
    },
    {
      "cell_type": "markdown",
      "metadata": {
        "id": "0v3LrDOr6xQd",
        "colab_type": "text"
      },
      "source": [
        "### while 반목문으로 요소 출력하기\n",
        "\n",
        "- while 반복문으로 리스트의 요소를 출력할 때는 변수 i를 인덱스로 활용"
      ]
    },
    {
      "cell_type": "code",
      "metadata": {
        "id": "4-1h-1te7bnR",
        "colab_type": "code",
        "colab": {
          "base_uri": "https://localhost:8080/",
          "height": 36
        },
        "outputId": "a0473a19-e245-4b49-ec60-32f388ed1e82"
      },
      "source": [
        "len(a)"
      ],
      "execution_count": 10,
      "outputs": [
        {
          "output_type": "execute_result",
          "data": {
            "text/plain": [
              "5"
            ]
          },
          "metadata": {
            "tags": []
          },
          "execution_count": 10
        }
      ]
    },
    {
      "cell_type": "code",
      "metadata": {
        "id": "TSUbTOkh61jH",
        "colab_type": "code",
        "colab": {
          "base_uri": "https://localhost:8080/",
          "height": 111
        },
        "outputId": "bd338cb0-2627-4b34-9dae-928ce18a7a23"
      },
      "source": [
        "i = 0\n",
        "while i < len(a):\n",
        "  print(a[i])\n",
        "  i += 1"
      ],
      "execution_count": 12,
      "outputs": [
        {
          "output_type": "stream",
          "text": [
            "34\n",
            "55\n",
            "24\n",
            "13\n",
            "44\n"
          ],
          "name": "stdout"
        }
      ]
    }
  ]
}
