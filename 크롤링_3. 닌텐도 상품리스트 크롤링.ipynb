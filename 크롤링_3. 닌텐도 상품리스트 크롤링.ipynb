{
 "cells": [
  {
   "cell_type": "code",
   "execution_count": 102,
   "metadata": {},
   "outputs": [],
   "source": [
    "import requests\n",
    "from bs4 import BeautifulSoup"
   ]
  },
  {
   "cell_type": "code",
   "execution_count": 103,
   "metadata": {},
   "outputs": [],
   "source": [
    "pn=soup.select(' div.cunit_info > div.cunit_md.notranslate > div > a > em.tx_ko')"
   ]
  },
  {
   "cell_type": "code",
   "execution_count": 104,
   "metadata": {},
   "outputs": [],
   "source": [
    "pp= soup.select('div.cunit_info > div.cunit_price.notranslate > div.opt_price > em')"
   ]
  },
  {
   "cell_type": "code",
   "execution_count": 105,
   "metadata": {},
   "outputs": [],
   "source": [
    "pr=soup.select(' div.cunit_prod > div.thmb > a> img')"
   ]
  },
  {
   "cell_type": "code",
   "execution_count": 116,
   "metadata": {},
   "outputs": [
    {
     "data": {
      "text/plain": [
       "109"
      ]
     },
     "execution_count": 116,
     "metadata": {},
     "output_type": "execute_result"
    }
   ],
   "source": [
    "len(pn)"
   ]
  },
  {
   "cell_type": "code",
   "execution_count": 135,
   "metadata": {},
   "outputs": [
    {
     "name": "stdout",
     "output_type": "stream",
     "text": [
      "['닌텐도 스위치 동물의 숲 패키지 外~', '★패키지★닌텐도 스위치 본체(HAD,동물의 숲 에디션)+마블 얼티밋얼라이언스3:더블랙오더+라보VR키트(슬림)', '[닌텐도]  닌텐도스위치HAD/라이트 外 총50종', '닌텐도 스위치 슈퍼마리오 3D 컬렉션 한글판 예약판', '닌텐도 스위치 정품 조이콘 세트 4종 당일출고', '[닌텐도스위치] 닌텐도스위치 라이트', '[닌텐도 스위치] 슈퍼마리오 파티', '닌텐도스위치 마리오카트8 디럭스 정식한글판', '[닌텐도 스위치 주변기기]닌텐도 스위치 프로 컨트롤러', '[닌텐도 스위치]슈퍼 스매시브라더스 얼티밋']\n",
      "['424,800', '464,600', '56,677']\n",
      "['https://www.ssg.com//item.ssgcdn.com/16/29/30/item/1000053302916_i1_232.jpg', 'https://www.ssg.com//item.ssgcdn.com/82/44/28/item/1000053284482_i1_232.jpg', 'https://www.ssg.com//item.ssgcdn.com/82/44/28/item/1000053284482_i2_232.jpg']\n"
     ]
    }
   ],
   "source": [
    "name = []\n",
    "price = []\n",
    "rink = []\n",
    "for i in range(len(pn)):\n",
    "    name.append(pn[i].text)\n",
    "    price.append(pp[i].text.strip())   \n",
    "    rink.append('https://www.ssg.com'+ pr[i].get('src'))\n",
    "\n",
    "print(name[:10])   \n",
    "print(price[:3])\n",
    "print(rink[:3])\n",
    "\n",
    "dict = {'이름' : name, '가격' : price, '링크' : rink}"
   ]
  },
  {
   "cell_type": "code",
   "execution_count": 136,
   "metadata": {},
   "outputs": [
    {
     "data": {
      "text/html": [
       "<div>\n",
       "<style scoped>\n",
       "    .dataframe tbody tr th:only-of-type {\n",
       "        vertical-align: middle;\n",
       "    }\n",
       "\n",
       "    .dataframe tbody tr th {\n",
       "        vertical-align: top;\n",
       "    }\n",
       "\n",
       "    .dataframe thead th {\n",
       "        text-align: right;\n",
       "    }\n",
       "</style>\n",
       "<table border=\"1\" class=\"dataframe\">\n",
       "  <thead>\n",
       "    <tr style=\"text-align: right;\">\n",
       "      <th></th>\n",
       "      <th>이름</th>\n",
       "      <th>가격</th>\n",
       "      <th>링크</th>\n",
       "    </tr>\n",
       "  </thead>\n",
       "  <tbody>\n",
       "    <tr>\n",
       "      <th>0</th>\n",
       "      <td>닌텐도 스위치 동물의 숲 패키지 外~</td>\n",
       "      <td>424,800</td>\n",
       "      <td>https://www.ssg.com//item.ssgcdn.com/16/29/30/...</td>\n",
       "    </tr>\n",
       "    <tr>\n",
       "      <th>1</th>\n",
       "      <td>★패키지★닌텐도 스위치 본체(HAD,동물의 숲 에디션)+마블 얼티밋얼라이언스3:더블...</td>\n",
       "      <td>464,600</td>\n",
       "      <td>https://www.ssg.com//item.ssgcdn.com/82/44/28/...</td>\n",
       "    </tr>\n",
       "    <tr>\n",
       "      <th>2</th>\n",
       "      <td>[닌텐도]  닌텐도스위치HAD/라이트 外 총50종</td>\n",
       "      <td>56,677</td>\n",
       "      <td>https://www.ssg.com//item.ssgcdn.com/82/44/28/...</td>\n",
       "    </tr>\n",
       "    <tr>\n",
       "      <th>3</th>\n",
       "      <td>닌텐도 스위치 슈퍼마리오 3D 컬렉션 한글판 예약판</td>\n",
       "      <td>59,800</td>\n",
       "      <td>https://www.ssg.com//item.ssgcdn.com/16/79/80/...</td>\n",
       "    </tr>\n",
       "    <tr>\n",
       "      <th>4</th>\n",
       "      <td>닌텐도 스위치 정품 조이콘 세트 4종 당일출고</td>\n",
       "      <td>79,800</td>\n",
       "      <td>https://www.ssg.com//item.ssgcdn.com/16/79/80/...</td>\n",
       "    </tr>\n",
       "  </tbody>\n",
       "</table>\n",
       "</div>"
      ],
      "text/plain": [
       "                                                  이름       가격  \\\n",
       "0                               닌텐도 스위치 동물의 숲 패키지 外~  424,800   \n",
       "1  ★패키지★닌텐도 스위치 본체(HAD,동물의 숲 에디션)+마블 얼티밋얼라이언스3:더블...  464,600   \n",
       "2                        [닌텐도]  닌텐도스위치HAD/라이트 外 총50종   56,677   \n",
       "3                       닌텐도 스위치 슈퍼마리오 3D 컬렉션 한글판 예약판   59,800   \n",
       "4                          닌텐도 스위치 정품 조이콘 세트 4종 당일출고   79,800   \n",
       "\n",
       "                                                  링크  \n",
       "0  https://www.ssg.com//item.ssgcdn.com/16/29/30/...  \n",
       "1  https://www.ssg.com//item.ssgcdn.com/82/44/28/...  \n",
       "2  https://www.ssg.com//item.ssgcdn.com/82/44/28/...  \n",
       "3  https://www.ssg.com//item.ssgcdn.com/16/79/80/...  \n",
       "4  https://www.ssg.com//item.ssgcdn.com/16/79/80/...  "
      ]
     },
     "execution_count": 136,
     "metadata": {},
     "output_type": "execute_result"
    }
   ],
   "source": [
    "import pandas as pd\n",
    "df = pd.DataFrame(dict)\n",
    "df.head()"
   ]
  },
  {
   "cell_type": "code",
   "execution_count": null,
   "metadata": {},
   "outputs": [],
   "source": []
  }
 ],
 "metadata": {
  "kernelspec": {
   "display_name": "Python 3",
   "language": "python",
   "name": "python3"
  },
  "language_info": {
   "codemirror_mode": {
    "name": "ipython",
    "version": 3
   },
   "file_extension": ".py",
   "mimetype": "text/x-python",
   "name": "python",
   "nbconvert_exporter": "python",
   "pygments_lexer": "ipython3",
   "version": "3.8.3"
  },
  "toc": {
   "base_numbering": 1,
   "nav_menu": {},
   "number_sections": true,
   "sideBar": true,
   "skip_h1_title": false,
   "title_cell": "Table of Contents",
   "title_sidebar": "Contents",
   "toc_cell": false,
   "toc_position": {},
   "toc_section_display": true,
   "toc_window_display": false
  }
 },
 "nbformat": 4,
 "nbformat_minor": 4
}
